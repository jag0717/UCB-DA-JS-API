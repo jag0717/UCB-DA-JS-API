{
 "cells": [
  {
   "cell_type": "code",
   "execution_count": null,
   "metadata": {
    "collapsed": true
   },
   "outputs": [],
   "source": [
    "# Import SQLAlchemy `automap` and other dependencies here\n",
    "import sqlalchemy\n",
    "from sqlalchemy.ext.automap import automap_base\n",
    "from sqlalchemy.orm import Session\n",
    "from sqlalchemy import create_engine, inspect\n",
    "from sqlalchemy import MetaData\n",
    "from sqlalchemy import Table\n",
    "from sqlalchemy import desc\n",
    "from sqlalchemy import func\n",
    "\n",
    "from flask import Flask, render_template, jsonify\n",
    "\n",
    "import pandas as pd\n",
    "import numpy as np"
   ]
  },
  {
   "cell_type": "code",
   "execution_count": null,
   "metadata": {
    "collapsed": true
   },
   "outputs": [],
   "source": [
    "#################################################\n",
    "# Flask Setup\n",
    "#################################################\n",
    "app = Flask(__name__)"
   ]
  },
  {
   "cell_type": "code",
   "execution_count": null,
   "metadata": {},
   "outputs": [],
   "source": [
    "#################################################\n",
    "# Database Setup\n",
    "#################################################\n",
    "engine = create_engine(\"sqlite:///DataSets/belly_button_biodiversity.sqlite\")\n",
    "print(\"Connected to DB\")\n",
    "\n",
    "# reflect an existing database into a new model\n",
    "Base = automap_base()\n",
    "# reflect the tables\n",
    "Base.prepare(engine, reflect=True)\n",
    "print(\"Reflected tables\")\n",
    "\n",
    "# Create our session (link) from Python to the DB\n",
    "session = Session(bind=engine)\n",
    "\n",
    "print(Base.classes.keys())"
   ]
  },
  {
   "cell_type": "code",
   "execution_count": null,
   "metadata": {
    "collapsed": true
   },
   "outputs": [],
   "source": [
    "# Save reference to the table\n",
    "Otu = Base.classes.otu\n",
    "Samples = Base.classes.samples\n",
    "Samples_metadata = Base.classes.samples_metadata"
   ]
  },
  {
   "cell_type": "code",
   "execution_count": null,
   "metadata": {
    "collapsed": true
   },
   "outputs": [],
   "source": [
    "# Create a MetaData instance\n",
    "metadata = MetaData()\n",
    "\n",
    "# reflect db schema to MetaData\n",
    "metadata.reflect(bind=engine)"
   ]
  },
  {
   "cell_type": "code",
   "execution_count": null,
   "metadata": {
    "collapsed": true
   },
   "outputs": [],
   "source": [
    "@app.route(\"/\")\n",
    "def home():\n",
    "    \"\"\"Return the dashboard homepage.\"\"\"\n",
    "    return render_template(\"index.html\")\n",
    "\n",
    "@app.route('/names')\n",
    "def names():\n",
    "    \"\"\"Return List of names.\"\"\"\n",
    "    sample_names = metadata.tables['samples'].columns.keys()\n",
    "    names = sample_names[1:len(sample_names)]\n",
    "    print('Samples Count: ' + str(len(names)))\n",
    "    return jsonify(names)\n",
    "\n",
    "@app.route('/otu')\n",
    "def otu_desc():\n",
    "    \"\"\"List of OTU descriptions.\"\"\"\n",
    "    results = session.query(Otu.otu_id, Otu.lowest_taxonomic_unit_found).all()\n",
    "    temp = []\n",
    "\n",
    "    for otu in results:\n",
    "        otu_dict = {}\n",
    "        otu_dict[\"otu_id\"] = otu.otu_id\n",
    "        otu_dict[\"desc\"] = otu.lowest_taxonomic_unit_found\n",
    "        temp.append(otu_dict)\n",
    "        \n",
    "    return jsonify(temp)\n",
    "\n",
    "@app.route('/metadata/<sample>')\n",
    "def sample_meta(sample):\n",
    "    \"\"\"MetaData for a given sample.\"\"\"\n",
    "    print('sample:'+ sample)\n",
    "    sample_id = sample.split('_')[1]\n",
    "    sample_metadata = session.query(Samples_metadata).filter(Samples_metadata.SAMPLEID == sample_id).first().__dict__\n",
    "    sample_metadata.pop('_sa_instance_state', None)\n",
    "    return jsonify(sample_metadata)\n",
    "\n",
    "@app.route('/wfreq/<sample>')\n",
    "def sample_wfreq(sample):\n",
    "    \"\"\"Weekly Washing Frequency as a number.\"\"\"\n",
    "    sample_id = sample.split('_')[1]\n",
    "    wfreq = session.query(Samples_metadata.WFREQ).filter(Samples_metadata.SAMPLEID == sample_id).first()[0]\n",
    "    print('wfreq:' + str(wfreq))\n",
    "    return jsonify(wfreq)\n",
    "\n",
    "@app.route('/samples/<sample>')\n",
    "def otu_samples(sample):\n",
    "    \"\"\"OTU IDs and Sample Values for a given sample.\"\"\"\n",
    "    # print('OTU sample:'+ sample)\n",
    "    samples_df = pd.read_csv('DataSets/belly_button_biodiversity_samples.csv')\n",
    "    temp_df = samples_df[['otu_id', sample]]\n",
    "    temp_df = temp_df.loc[temp_df[sample] > 0]\n",
    "    temp_df = temp_df.sort_values(by=sample, ascending=False)    \n",
    "    otu_id = list(temp_df['otu_id'])\n",
    "    sample_values = list(temp_df[sample])\n",
    "    \n",
    "    sample_dict = {\"otu_ids\":otu_id, \"sample_values\": sample_values}\n",
    "    # print(sample_dict)\n",
    "    return jsonify(sample_dict)\n"
   ]
  },
  {
   "cell_type": "code",
   "execution_count": null,
   "metadata": {},
   "outputs": [],
   "source": [
    "if __name__ == \"__main__\":\n",
    "    app.run()"
   ]
  }
 ],
 "metadata": {
  "kernelspec": {
   "display_name": "Python 3",
   "language": "python",
   "name": "python3"
  },
  "language_info": {
   "codemirror_mode": {
    "name": "ipython",
    "version": 3
   },
   "file_extension": ".py",
   "mimetype": "text/x-python",
   "name": "python",
   "nbconvert_exporter": "python",
   "pygments_lexer": "ipython3",
   "version": "3.6.3"
  }
 },
 "nbformat": 4,
 "nbformat_minor": 2
}
